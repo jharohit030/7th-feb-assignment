{
 "cells": [
  {
   "cell_type": "code",
   "execution_count": 3,
   "id": "2553fe3a-92cb-47a6-8e08-1b4428552724",
   "metadata": {},
   "outputs": [
    {
     "name": "stdin",
     "output_type": "stream",
     "text": [
      "Enter your password:  ABcd12@??e\n"
     ]
    },
    {
     "name": "stdout",
     "output_type": "stream",
     "text": [
      "Valid Password\n"
     ]
    }
   ],
   "source": [
    "#Question 1:\n",
    "\n",
    "\n",
    "def check_pswd(pswd):\n",
    "    \n",
    "    if len(pswd)!=10:\n",
    "        return \"Invalid Password\"\n",
    "    \n",
    "    upper_count = 0\n",
    "    for i in pswd:\n",
    "        if i.isupper():\n",
    "            upper_count += 1\n",
    "    if upper_count < 2:\n",
    "        return \"Invalid Password\"\n",
    "    \n",
    "    lower_count = 0\n",
    "    for i in pswd:\n",
    "        if i.islower():\n",
    "            lower_count += 1\n",
    "    if lower_count < 2:\n",
    "        return \"Invalid Password\"\n",
    "    \n",
    "    special_count = 0\n",
    "    for i in pswd:\n",
    "        if not i.isalnum():\n",
    "            special_count += 1\n",
    "    if special_count < 3:\n",
    "        return \"Invalid Password\"\n",
    "    \n",
    "    number = False\n",
    "    for i in pswd:\n",
    "        if i.isdigit():\n",
    "            number = True\n",
    "            break\n",
    "    if not number:      \n",
    "        return \"Invalid Password\"\n",
    "    \n",
    "    return \"Valid Password\"\n",
    "\n",
    "password  = input(\"Enter your password: \")\n",
    "res = check_pswd(password)\n",
    "print(res)"
   ]
  },
  {
   "cell_type": "code",
   "execution_count": 5,
   "id": "e874b2e8-95d9-4d80-8ed1-3f889300f040",
   "metadata": {},
   "outputs": [
    {
     "name": "stdout",
     "output_type": "stream",
     "text": [
      "['apple']\n"
     ]
    }
   ],
   "source": [
    "#Question 2:\n",
    "\n",
    "#1. check string starts with the particular letter\n",
    "\n",
    "string = [\"apple\", \"banana\",\"grapes\",\"orange\"]\n",
    "letter = 'a'\n",
    "filtered_string = list(filter(lambda x: x.startswith(letter), string))\n",
    "print(filtered_string)"
   ]
  },
  {
   "cell_type": "code",
   "execution_count": 8,
   "id": "8ebcd60c-d57e-4858-8d0b-9757c0c82798",
   "metadata": {},
   "outputs": [
    {
     "name": "stdout",
     "output_type": "stream",
     "text": [
      "['123', '456', '135']\n"
     ]
    }
   ],
   "source": [
    "#2. check string is numeric\n",
    "\n",
    "string = ['123', '456','-70','135','efg']\n",
    "filtered_string = list(filter(lambda x: x.isnumeric(), string))\n",
    "print(filtered_string)"
   ]
  },
  {
   "cell_type": "code",
   "execution_count": 10,
   "id": "b06867d8-aac3-4ad4-9feb-068ed73637a2",
   "metadata": {},
   "outputs": [
    {
     "name": "stdout",
     "output_type": "stream",
     "text": [
      "[('orange', 80), ('mango', 90), ('grapes', 1000)]\n"
     ]
    }
   ],
   "source": [
    "#3. sort the given tuple\n",
    "\n",
    "fruit = [('mango',90),('orange',80),('grapes',1000)]\n",
    "sorted_fruits = sorted(fruit, key= lambda x: x[1])\n",
    "print(sorted_fruits)"
   ]
  },
  {
   "cell_type": "code",
   "execution_count": 12,
   "id": "e97755c5-04e7-4363-8856-9712f7d42c97",
   "metadata": {},
   "outputs": [
    {
     "name": "stdout",
     "output_type": "stream",
     "text": [
      "[1, 4, 9, 16, 25, 36, 49, 64, 81, 100]\n"
     ]
    }
   ],
   "source": [
    "#4. square of number from 1 to 10\n",
    "\n",
    "square = [x*x for x in range(1,11)]\n",
    "print(square)"
   ]
  },
  {
   "cell_type": "code",
   "execution_count": 13,
   "id": "44bbe395-c6d4-4340-8f8d-87dc30b79ae0",
   "metadata": {},
   "outputs": [
    {
     "name": "stdout",
     "output_type": "stream",
     "text": [
      "[1.0, 1.26, 1.44, 1.59, 1.71, 1.82, 1.91, 2.0, 2.08, 2.15]\n"
     ]
    }
   ],
   "source": [
    "#5. cuberoot of the number from 1 to 10\n",
    "\n",
    "import math\n",
    "\n",
    "cube_roots = [round(math.pow(x, 1/3), 2) for x in range(1, 11)]\n",
    "print(cube_roots)\n"
   ]
  },
  {
   "cell_type": "code",
   "execution_count": 14,
   "id": "87ea552d-b204-4c07-9306-6e33ed1e7947",
   "metadata": {},
   "outputs": [
    {
     "name": "stdout",
     "output_type": "stream",
     "text": [
      "True\n"
     ]
    }
   ],
   "source": [
    "#6. check given number is even\n",
    "\n",
    "num = 4\n",
    "\n",
    "is_even = lambda x: x%2==0\n",
    "print(is_even(num))"
   ]
  },
  {
   "cell_type": "code",
   "execution_count": 16,
   "id": "1ec47dac-713a-492d-83f1-42d8c028d7b7",
   "metadata": {},
   "outputs": [
    {
     "name": "stdout",
     "output_type": "stream",
     "text": [
      "[1, 3, 5, 7, 9]\n"
     ]
    }
   ],
   "source": [
    "#7. filter odd number from list\n",
    "\n",
    "l = [1,2,3,4,5,6,7,8,9,10]\n",
    "filterd_odd = [i for i in l if i%2!= 0]\n",
    "print(filterd_odd)"
   ]
  },
  {
   "cell_type": "code",
   "execution_count": 17,
   "id": "692b8823-7716-42c6-bf94-d571e32c307c",
   "metadata": {},
   "outputs": [
    {
     "name": "stdout",
     "output_type": "stream",
     "text": [
      "[1, 2, 3, 4, 5, 6]\n",
      "[-1, -2, -3, -4, -5]\n"
     ]
    }
   ],
   "source": [
    "#8. sort a list of positive and negative list\n",
    "\n",
    "l=[1,2,3,4,5,6,-1,-2,-3,-4,-5,0]\n",
    "\n",
    "pos_num = [i for i in l if i > 0]\n",
    "neg_num = [i for i in l if i < 0]\n",
    "\n",
    "print(pos_num)\n",
    "print(neg_num)"
   ]
  }
 ],
 "metadata": {
  "kernelspec": {
   "display_name": "Python 3 (ipykernel)",
   "language": "python",
   "name": "python3"
  },
  "language_info": {
   "codemirror_mode": {
    "name": "ipython",
    "version": 3
   },
   "file_extension": ".py",
   "mimetype": "text/x-python",
   "name": "python",
   "nbconvert_exporter": "python",
   "pygments_lexer": "ipython3",
   "version": "3.10.8"
  }
 },
 "nbformat": 4,
 "nbformat_minor": 5
}
